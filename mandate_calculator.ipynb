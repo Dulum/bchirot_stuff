{
 "cells": [
  {
   "cell_type": "code",
   "execution_count": 1,
   "metadata": {},
   "outputs": [],
   "source": [
    "import pandas as pd\n",
    "import csv"
   ]
  },
  {
   "cell_type": "code",
   "execution_count": 43,
   "metadata": {},
   "outputs": [],
   "source": [
    "dataf = pd.read_csv('elec22_kalpis.csv', encoding='cp1255')\n",
    "dataf2 = pd.read_csv('elec22_kalpis_old1.csv', encoding='cp1255')\n",
    "\n",
    "surplus_arangements = [['שס', 'ג'], ['מרצ', 'אמת'], ['מחל', 'טב'], ['ל', 'פה']]"
   ]
  },
  {
   "cell_type": "code",
   "execution_count": 51,
   "metadata": {},
   "outputs": [
    {
     "name": "stdout",
     "output_type": "stream",
     "text": [
      "שסג       16.0\n",
      "מרצאמת    11.0\n",
      "מחלטב     39.0\n",
      "לפה       41.0\n",
      "ודעם      13.0\n",
      "dtype: float64 120.0\n",
      "\n",
      "שסג 8.0 7.0\n",
      "מרצאמת 5.0 5.0\n",
      "מחלטב 31.0 7.0\n",
      "לפה 8.0 32.0\n",
      "ודעם    13.0\n",
      "שס       8.0\n",
      "ג        7.0\n",
      "מרצ      5.0\n",
      "אמת      6.0\n",
      "מחל     32.0\n",
      "טב       7.0\n",
      "ל        8.0\n",
      "פה      33.0\n",
      "dtype: float64 119.0\n"
     ]
    }
   ],
   "source": [
    "# first step: counting the votes:\n",
    "first_party_index = 1 + dataf.columns.get_loc('כשרים')\n",
    "num_of_votes = sum(dataf.sum()[11:].sort_values()[first_party_index:])\n",
    "\n",
    "# todo: check if sum of all party votes is equal to number \n",
    "# of voters - number of invalid votes\n",
    "\n",
    "# removing parties who didn't pass the quota:\n",
    "minimum_votes = (3.25 / 100) * num_of_votes\n",
    "s = dataf.sum()[first_party_index:]\n",
    "s = s[s > minimum_votes]\n",
    "\n",
    "mandate_size = sum(s) / 120\n",
    "first_results = s // mandate_size\n",
    "\n",
    "# todo: remove from surplus arangements parties that sisn't meet the quota.\n",
    "\n",
    "lonely_parties = [p for p in s.index if not any([p in j for j in surplus_arangements])]\n",
    "\n",
    "superparties_votes = [sum(s[i]) for i in surplus_arangements] + [s[i] for i in lonely_parties]\n",
    "superparties_names = [i + j for i, j in surplus_arangements] + lonely_parties\n",
    "s_p = pd.Series(data=superparties_votes, index=superparties_names)\n",
    "\n",
    "\n",
    "superparties_mandates = [sum(first_results[i]) for i in surplus_arangements] + \\\n",
    "                        [first_results[i] for i in lonely_parties]\n",
    "sp_m = pd.Series(data=superparties_mandates, index=superparties_names)\n",
    "\n",
    "while sum(sp_m) < 120:\n",
    "    meter = s_p / (sp_m + 1)\n",
    "    add_to = s_p[meter == meter.max()]\n",
    "    add_to = next(iter(add_to.index))  # todo: do this properly!\n",
    "    sp_m[add_to] += 1\n",
    "print(sp_m, sum(sp_m))\n",
    "print()\n",
    "finale_results = pd.Series()\n",
    "for party_name in s.index:\n",
    "    if not any([party_name in agr for agr in surplus_arangements]):\n",
    "        finale_results[party_name] = sp_m[party_name]\n",
    "\n",
    "for p1, p2 in surplus_arangements:\n",
    "    meter1 = (s[p1] + s[p2]) / (sp_m[p1 + p2])\n",
    "    finale_results[p1] = s[p1] // meter1\n",
    "    finale_results[p2] = s[p2] // meter1\n",
    "    print(p1+p2, s[p1] // meter1, s[p2] // meter1)\n",
    "    meter2_p1 = s[p1] / (finale_results[p1] + 1)\n",
    "    meter2_p2 = s[p2] / (finale_results[p2] + 1)\n",
    "    if sp_m[p1+p2] > first_results[p1] + first_results[p2]:\n",
    "        if meter2_p1 > meter2_p2:\n",
    "            finale_results[p1] += 1\n",
    "        else:\n",
    "            finale_results[p2] += 1\n",
    "print(finale_results, sum(finale_results))"
   ]
  },
  {
   "cell_type": "code",
   "execution_count": 13,
   "metadata": {},
   "outputs": [
    {
     "name": "stdout",
     "output_type": "stream",
     "text": [
      "אמת\n",
      "ג\n",
      "ודעם\n",
      "טב\n",
      "ל\n",
      "מחל\n",
      "מרצ\n",
      "פה\n",
      "שס\n"
     ]
    }
   ],
   "source": [
    "for i in s.index:\n",
    "    print(i)"
   ]
  },
  {
   "cell_type": "code",
   "execution_count": 35,
   "metadata": {},
   "outputs": [],
   "source": [
    "for i in s.index:\n",
    "    if not s[i]:\n",
    "        s = s.drop(i)"
   ]
  },
  {
   "cell_type": "code",
   "execution_count": 7,
   "metadata": {},
   "outputs": [
    {
     "data": {
      "text/plain": [
       "אמת      5\n",
       "ג        7\n",
       "ודעם    13\n",
       "טב       7\n",
       "ל        8\n",
       "מחל     30\n",
       "מרצ      5\n",
       "פה      32\n",
       "שס       9\n",
       "dtype: object"
      ]
     },
     "execution_count": 7,
     "metadata": {},
     "output_type": "execute_result"
    }
   ],
   "source": [
    "first_resultsprint(meter)"
   ]
  },
  {
   "cell_type": "code",
   "execution_count": 115,
   "metadata": {},
   "outputs": [
    {
     "data": {
      "text/plain": [
       "['שסג', 'מרצאמת', 'מחלטב', 'לפה', 'ודעם']"
      ]
     },
     "execution_count": 115,
     "metadata": {},
     "output_type": "execute_result"
    }
   ],
   "source": []
  },
  {
   "cell_type": "code",
   "execution_count": 186,
   "metadata": {},
   "outputs": [
    {
     "data": {
      "text/plain": [
       "<bound method Series.keys of פה    1148700\n",
       "dtype: object>"
      ]
     },
     "execution_count": 186,
     "metadata": {},
     "output_type": "execute_result"
    }
   ],
   "source": []
  },
  {
   "cell_type": "code",
   "execution_count": 158,
   "metadata": {},
   "outputs": [
    {
     "ename": "TypeError",
     "evalue": "'Index' object is not callable",
     "output_type": "error",
     "traceback": [
      "\u001b[0;31m---------------------------------------------------------------------------\u001b[0m",
      "\u001b[0;31mTypeError\u001b[0m                                 Traceback (most recent call last)",
      "\u001b[0;32m<ipython-input-158-c4d2cd58ed4a>\u001b[0m in \u001b[0;36m<module>\u001b[0;34m\u001b[0m\n\u001b[1;32m      1\u001b[0m \u001b[0ma\u001b[0m \u001b[0;34m=\u001b[0m \u001b[0ms\u001b[0m\u001b[0;34m[\u001b[0m\u001b[0ms\u001b[0m \u001b[0;34m==\u001b[0m \u001b[0mmax\u001b[0m\u001b[0;34m(\u001b[0m\u001b[0ms\u001b[0m\u001b[0;34m)\u001b[0m\u001b[0;34m]\u001b[0m\u001b[0;34m\u001b[0m\u001b[0;34m\u001b[0m\u001b[0m\n\u001b[0;32m----> 2\u001b[0;31m \u001b[0ma\u001b[0m\u001b[0;34m.\u001b[0m\u001b[0mindex\u001b[0m\u001b[0;34m(\u001b[0m\u001b[0;34m)\u001b[0m\u001b[0;34m\u001b[0m\u001b[0;34m\u001b[0m\u001b[0m\n\u001b[0m",
      "\u001b[0;31mTypeError\u001b[0m: 'Index' object is not callable"
     ]
    }
   ],
   "source": [
    "a = s[s == max(s)]\n",
    "a.index()"
   ]
  },
  {
   "cell_type": "code",
   "execution_count": 200,
   "metadata": {},
   "outputs": [
    {
     "data": {
      "text/plain": [
       "Float64Index([17.0, 11.0, 38.0, 41.0, 14.0], dtype='float64')"
      ]
     },
     "execution_count": 200,
     "metadata": {},
     "output_type": "execute_result"
    }
   ],
   "source": [
    "pd.Index(superparties_mandates)"
   ]
  },
  {
   "cell_type": "code",
   "execution_count": 197,
   "metadata": {},
   "outputs": [
    {
     "data": {
      "text/plain": [
       "[17.0, 11.0, 38.0, 41.0, 14.0]"
      ]
     },
     "execution_count": 197,
     "metadata": {},
     "output_type": "execute_result"
    }
   ],
   "source": [
    "superparties_mandates"
   ]
  },
  {
   "cell_type": "code",
   "execution_count": 231,
   "metadata": {},
   "outputs": [],
   "source": [
    "b = pd.Series(s)"
   ]
  },
  {
   "cell_type": "code",
   "execution_count": 234,
   "metadata": {},
   "outputs": [],
   "source": [
    "s['ל']-= 50000000"
   ]
  },
  {
   "cell_type": "code",
   "execution_count": 248,
   "metadata": {},
   "outputs": [
    {
     "data": {
      "text/plain": [
       "אמת      106264\n",
       "ג        134344\n",
       "ודעם     235306\n",
       "טב       130170\n",
       "ל        154844\n",
       "מחל      555768\n",
       "מרצ     96130.5\n",
       "פה       574350\n",
       "שס       164917\n",
       "dtype: object"
      ]
     },
     "execution_count": 248,
     "metadata": {},
     "output_type": "execute_result"
    }
   ],
   "source": [
    "s / 2"
   ]
  },
  {
   "cell_type": "code",
   "execution_count": 15,
   "metadata": {},
   "outputs": [],
   "source": [
    "bla = pd.Series()"
   ]
  },
  {
   "cell_type": "code",
   "execution_count": 16,
   "metadata": {},
   "outputs": [
    {
     "data": {
      "text/plain": [
       "Series([], dtype: float64)"
      ]
     },
     "execution_count": 16,
     "metadata": {},
     "output_type": "execute_result"
    }
   ],
   "source": [
    "bla"
   ]
  },
  {
   "cell_type": "code",
   "execution_count": 19,
   "metadata": {},
   "outputs": [],
   "source": [
    "bla['אמת'] = 123123"
   ]
  },
  {
   "cell_type": "code",
   "execution_count": 20,
   "metadata": {},
   "outputs": [
    {
     "data": {
      "text/plain": [
       "123    123123\n",
       "אמת    123123\n",
       "dtype: int64"
      ]
     },
     "execution_count": 20,
     "metadata": {},
     "output_type": "execute_result"
    }
   ],
   "source": [
    "bla"
   ]
  },
  {
   "cell_type": "code",
   "execution_count": 42,
   "metadata": {},
   "outputs": [
    {
     "data": {
      "text/plain": [
       "אמת      253\n",
       "ג         87\n",
       "ודעם    -400\n",
       "טב       316\n",
       "ל        466\n",
       "מחל     2082\n",
       "מרצ      234\n",
       "פה      2514\n",
       "שס       365\n",
       "dtype: object"
      ]
     },
     "execution_count": 42,
     "metadata": {},
     "output_type": "execute_result"
    }
   ],
   "source": [
    "s2-s"
   ]
  },
  {
   "cell_type": "code",
   "execution_count": null,
   "metadata": {},
   "outputs": [],
   "source": [
    "s = dataf.sum()[first_party_index:]\n",
    "s = s[s > minimum_votes]\n",
    "s2 = dataf2.sum()[first_party_index:]\n",
    "s2 = s2[s2 > minimum_votes]"
   ]
  }
 ],
 "metadata": {
  "kernelspec": {
   "display_name": "Python 3.6",
   "language": "python",
   "name": "python3.6"
  },
  "language_info": {
   "codemirror_mode": {
    "name": "ipython",
    "version": 3
   },
   "file_extension": ".py",
   "mimetype": "text/x-python",
   "name": "python",
   "nbconvert_exporter": "python",
   "pygments_lexer": "ipython3",
   "version": "3.6.8"
  }
 },
 "nbformat": 4,
 "nbformat_minor": 2
}
