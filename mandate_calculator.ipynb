{
 "cells": [
  {
   "cell_type": "code",
   "execution_count": 13,
   "metadata": {},
   "outputs": [],
   "source": [
    "import pandas as pd\n",
    "import csv"
   ]
  },
  {
   "cell_type": "code",
   "execution_count": 249,
   "metadata": {},
   "outputs": [],
   "source": [
    "dataf = pd.read_csv('elec22_kalpis.csv', encoding='cp1255')\n",
    "\n",
    "surplus_arangements = [['שס', 'ג'], ['מרצ', 'אמת'], ['מחל', 'טב'], ['ל', 'פה']]"
   ]
  },
  {
   "cell_type": "code",
   "execution_count": 250,
   "metadata": {},
   "outputs": [
    {
     "name": "stdout",
     "output_type": "stream",
     "text": [
      "33251.22222222222\n",
      "33732.5\n",
      "35176.256410256414\n",
      "34723.52380952381\n"
     ]
    }
   ],
   "source": [
    "# first step: counting the votes:\n",
    "first_party_index = 1 + dataf.columns.get_loc('כשרים')\n",
    "num_of_votes = sum(dataf.sum()[11:].sort_values()[first_party_index:])\n",
    "\n",
    "# todo: check if sum of all party votes is equal to number \n",
    "# of voters - number of invalid votes\n",
    "\n",
    "# removing parties who didn't pass the quota:\n",
    "minimum_votes = (3.25 / 100) * num_of_votes\n",
    "s = dataf.sum()[first_party_index:]\n",
    "s = s[s > minimum_votes]\n",
    "\n",
    "mandate_size = sum(s) / 120\n",
    "first_results = s // mandate_size\n",
    "\n",
    "# todo: remove from surplus arangements parties that sisn't meet the quota.\n",
    "\n",
    "lonely_parties = [p for p in s.index if not any([p in j for j in surplus_arangements])]\n",
    "\n",
    "superparties_votes = [sum(s[i]) for i in surplus_arangements] + [s[i] for i in lonely_parties]\n",
    "superparties_names = [i + j for i, j in surplus_arangements] + lonely_parties\n",
    "s_p = pd.Series(data=superparties_votes, index=superparties_names)\n",
    "\n",
    "\n",
    "superparties_mandates = [sum(first_results[i]) + 1 for i in surplus_arangements] + \\\n",
    "                        [first_results[i] + 1 for i in lonely_parties]\n",
    "sp_m = pd.Series(data=superparties_mandates, index=superparties_names)\n",
    "\n",
    "while sum(sp_m) - len(sp_m) < 120:\n",
    "    meter = s_p / sp_m\n",
    "    add_to = s_p[meter == meter.max()]\n",
    "    add_to = next(iter(add_to.index))  # todo: do this properly!\n",
    "    sp_m[add_to] += 1\n",
    "\n",
    "for p1, p2 in surplus_arangements:\n",
    "    meter = (s[p1] + s[p2]) / (sp_m[p1 + p2])\n",
    "    print(meter)"
   ]
  },
  {
   "cell_type": "code",
   "execution_count": 240,
   "metadata": {},
   "outputs": [
    {
     "data": {
      "text/plain": [
       "639522"
      ]
     },
     "execution_count": 240,
     "metadata": {},
     "output_type": "execute_result"
    }
   ],
   "source": [
    "s['שס'] + s['ל']"
   ]
  },
  {
   "cell_type": "code",
   "execution_count": 35,
   "metadata": {},
   "outputs": [],
   "source": [
    "for i in s.index:\n",
    "    if not s[i]:\n",
    "        s = s.drop(i)"
   ]
  },
  {
   "cell_type": "code",
   "execution_count": 45,
   "metadata": {},
   "outputs": [
    {
     "data": {
      "text/plain": [
       "אמת      212529\n",
       "ג        268688\n",
       "ודעם     470611\n",
       "ז          1215\n",
       "זכ          732\n",
       "זן            0\n",
       "זץ        14817\n",
       "טב       260339\n",
       "י           432\n",
       "יז         4346\n",
       "ינ          610\n",
       "יף          541\n",
       "יק          495\n",
       "כ             0\n",
       "כי         5905\n",
       "כף        83266\n",
       "ל        309688\n",
       "מחל     1111535\n",
       "מרצ      192261\n",
       "נ          1079\n",
       "נך         1544\n",
       "נץ            0\n",
       "פה      1148700\n",
       "ףז         1251\n",
       "צ          3039\n",
       "צן          733\n",
       "ץ           592\n",
       "ק          1471\n",
       "קך          928\n",
       "קץ          987\n",
       "רק         2398\n",
       "שס       329834\n",
       "dtype: object"
      ]
     },
     "execution_count": 45,
     "metadata": {},
     "output_type": "execute_result"
    }
   ],
   "source": [
    "s"
   ]
  },
  {
   "cell_type": "code",
   "execution_count": 115,
   "metadata": {},
   "outputs": [
    {
     "data": {
      "text/plain": [
       "['שסג', 'מרצאמת', 'מחלטב', 'לפה', 'ודעם']"
      ]
     },
     "execution_count": 115,
     "metadata": {},
     "output_type": "execute_result"
    }
   ],
   "source": []
  },
  {
   "cell_type": "code",
   "execution_count": 186,
   "metadata": {},
   "outputs": [
    {
     "data": {
      "text/plain": [
       "<bound method Series.keys of פה    1148700\n",
       "dtype: object>"
      ]
     },
     "execution_count": 186,
     "metadata": {},
     "output_type": "execute_result"
    }
   ],
   "source": []
  },
  {
   "cell_type": "code",
   "execution_count": 158,
   "metadata": {},
   "outputs": [
    {
     "ename": "TypeError",
     "evalue": "'Index' object is not callable",
     "output_type": "error",
     "traceback": [
      "\u001b[0;31m---------------------------------------------------------------------------\u001b[0m",
      "\u001b[0;31mTypeError\u001b[0m                                 Traceback (most recent call last)",
      "\u001b[0;32m<ipython-input-158-c4d2cd58ed4a>\u001b[0m in \u001b[0;36m<module>\u001b[0;34m\u001b[0m\n\u001b[1;32m      1\u001b[0m \u001b[0ma\u001b[0m \u001b[0;34m=\u001b[0m \u001b[0ms\u001b[0m\u001b[0;34m[\u001b[0m\u001b[0ms\u001b[0m \u001b[0;34m==\u001b[0m \u001b[0mmax\u001b[0m\u001b[0;34m(\u001b[0m\u001b[0ms\u001b[0m\u001b[0;34m)\u001b[0m\u001b[0;34m]\u001b[0m\u001b[0;34m\u001b[0m\u001b[0;34m\u001b[0m\u001b[0m\n\u001b[0;32m----> 2\u001b[0;31m \u001b[0ma\u001b[0m\u001b[0;34m.\u001b[0m\u001b[0mindex\u001b[0m\u001b[0;34m(\u001b[0m\u001b[0;34m)\u001b[0m\u001b[0;34m\u001b[0m\u001b[0;34m\u001b[0m\u001b[0m\n\u001b[0m",
      "\u001b[0;31mTypeError\u001b[0m: 'Index' object is not callable"
     ]
    }
   ],
   "source": [
    "a = s[s == max(s)]\n",
    "a.index()"
   ]
  },
  {
   "cell_type": "code",
   "execution_count": 200,
   "metadata": {},
   "outputs": [
    {
     "data": {
      "text/plain": [
       "Float64Index([17.0, 11.0, 38.0, 41.0, 14.0], dtype='float64')"
      ]
     },
     "execution_count": 200,
     "metadata": {},
     "output_type": "execute_result"
    }
   ],
   "source": [
    "pd.Index(superparties_mandates)"
   ]
  },
  {
   "cell_type": "code",
   "execution_count": 197,
   "metadata": {},
   "outputs": [
    {
     "data": {
      "text/plain": [
       "[17.0, 11.0, 38.0, 41.0, 14.0]"
      ]
     },
     "execution_count": 197,
     "metadata": {},
     "output_type": "execute_result"
    }
   ],
   "source": [
    "superparties_mandates"
   ]
  },
  {
   "cell_type": "code",
   "execution_count": 231,
   "metadata": {},
   "outputs": [],
   "source": [
    "b = pd.Series(s)"
   ]
  },
  {
   "cell_type": "code",
   "execution_count": 234,
   "metadata": {},
   "outputs": [],
   "source": [
    "s['ל']-= 50000000"
   ]
  },
  {
   "cell_type": "code",
   "execution_count": 248,
   "metadata": {},
   "outputs": [
    {
     "data": {
      "text/plain": [
       "אמת      106264\n",
       "ג        134344\n",
       "ודעם     235306\n",
       "טב       130170\n",
       "ל        154844\n",
       "מחל      555768\n",
       "מרצ     96130.5\n",
       "פה       574350\n",
       "שס       164917\n",
       "dtype: object"
      ]
     },
     "execution_count": 248,
     "metadata": {},
     "output_type": "execute_result"
    }
   ],
   "source": [
    "s / 2"
   ]
  },
  {
   "cell_type": "code",
   "execution_count": null,
   "metadata": {},
   "outputs": [],
   "source": []
  }
 ],
 "metadata": {
  "kernelspec": {
   "display_name": "Python 3.6",
   "language": "python",
   "name": "python3.6"
  },
  "language_info": {
   "codemirror_mode": {
    "name": "ipython",
    "version": 3
   },
   "file_extension": ".py",
   "mimetype": "text/x-python",
   "name": "python",
   "nbconvert_exporter": "python",
   "pygments_lexer": "ipython3",
   "version": "3.6.8"
  }
 },
 "nbformat": 4,
 "nbformat_minor": 2
}
