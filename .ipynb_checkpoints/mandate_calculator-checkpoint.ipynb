{
 "cells": [
  {
   "cell_type": "code",
   "execution_count": 13,
   "metadata": {},
   "outputs": [],
   "source": [
    "import pandas as pd\n",
    "import csv"
   ]
  },
  {
   "cell_type": "code",
   "execution_count": 109,
   "metadata": {},
   "outputs": [],
   "source": [
    "dataf = pd.read_csv('elec22_kalpis.csv', encoding='cp1255')\n",
    "\n",
    "surplus_arangements = [['שס', 'ג'], ['מרצ', 'אמת'], ['מחל', 'טב'], ['ל', 'פה']]"
   ]
  },
  {
   "cell_type": "code",
   "execution_count": 129,
   "metadata": {},
   "outputs": [
    {
     "data": {
      "text/plain": [
       "שסג       35207.176471\n",
       "מרצאמת    36799.090909\n",
       "מחלטב     36101.947368\n",
       "לפה       35570.439024\n",
       "ודעם      33615.071429\n",
       "dtype: float64"
      ]
     },
     "execution_count": 129,
     "metadata": {},
     "output_type": "execute_result"
    }
   ],
   "source": [
    "# first step: counting the votes:\n",
    "first_party_index = 1 + dataf.columns.get_loc('כשרים')\n",
    "num_of_votes = sum(dataf.sum()[11:].sort_values()[first_party_index:])\n",
    "\n",
    "# todo: check if sum of all party votes is equal to number \n",
    "# of voters - number of invalid votes\n",
    "\n",
    "# removing parties who didn't pass the quota:\n",
    "minimum_votes = (3.25 / 100) * num_of_votes\n",
    "s = dataf.sum()[first_party_index:]\n",
    "s = s[s > minimum_votes]\n",
    "\n",
    "mandate_size = sum(s) / 120\n",
    "results = s // mandate_size\n",
    "\n",
    "# todo: remove from surplus arangements parties that sisn't meet the quota.\n",
    "\n",
    "lonely_parties = [p for p in s.index if not any([p in j for j in surplus_arangements])]\n",
    "\n",
    "superparties_votes = [sum(s[i]) for i in surplus_arangements] + [s[i] for i in lonely_parties]\n",
    "superparties_names = [i + j for i, j in surplus_arangements] + lonely_parties\n",
    "s_p = pd.Series(data=superparties_votes, index=superparties_names)\n",
    "\n",
    "\n",
    "superparties_mandates = [sum(results[i]) + 1 for i in surplus_arangements] + \\\n",
    "                        [results[i] + 1 for i in lonely_parties]\n",
    "s_p / (superparties_mandates) \n",
    "add_to = s_p[s_p == s_p.max()]\n",
    "superparties_mandates[add_to] += 1"
   ]
  },
  {
   "cell_type": "code",
   "execution_count": 73,
   "metadata": {},
   "outputs": [
    {
     "data": {
      "text/plain": [
       "אמת      5\n",
       "ג        7\n",
       "ודעם    13\n",
       "טב       7\n",
       "ל        8\n",
       "מחל     30\n",
       "מרצ      5\n",
       "פה      32\n",
       "שס       9\n",
       "dtype: object"
      ]
     },
     "execution_count": 73,
     "metadata": {},
     "output_type": "execute_result"
    }
   ],
   "source": [
    "first_results"
   ]
  },
  {
   "cell_type": "code",
   "execution_count": 35,
   "metadata": {},
   "outputs": [],
   "source": [
    "for i in s.index:\n",
    "    if not s[i]:\n",
    "        s = s.drop(i)"
   ]
  },
  {
   "cell_type": "code",
   "execution_count": 45,
   "metadata": {},
   "outputs": [
    {
     "data": {
      "text/plain": [
       "אמת      212529\n",
       "ג        268688\n",
       "ודעם     470611\n",
       "ז          1215\n",
       "זכ          732\n",
       "זן            0\n",
       "זץ        14817\n",
       "טב       260339\n",
       "י           432\n",
       "יז         4346\n",
       "ינ          610\n",
       "יף          541\n",
       "יק          495\n",
       "כ             0\n",
       "כי         5905\n",
       "כף        83266\n",
       "ל        309688\n",
       "מחל     1111535\n",
       "מרצ      192261\n",
       "נ          1079\n",
       "נך         1544\n",
       "נץ            0\n",
       "פה      1148700\n",
       "ףז         1251\n",
       "צ          3039\n",
       "צן          733\n",
       "ץ           592\n",
       "ק          1471\n",
       "קך          928\n",
       "קץ          987\n",
       "רק         2398\n",
       "שס       329834\n",
       "dtype: object"
      ]
     },
     "execution_count": 45,
     "metadata": {},
     "output_type": "execute_result"
    }
   ],
   "source": [
    "s"
   ]
  },
  {
   "cell_type": "code",
   "execution_count": 115,
   "metadata": {},
   "outputs": [
    {
     "data": {
      "text/plain": [
       "['שסג', 'מרצאמת', 'מחלטב', 'לפה', 'ודעם']"
      ]
     },
     "execution_count": 115,
     "metadata": {},
     "output_type": "execute_result"
    }
   ],
   "source": []
  },
  {
   "cell_type": "code",
   "execution_count": 137,
   "metadata": {},
   "outputs": [],
   "source": []
  },
  {
   "cell_type": "code",
   "execution_count": 158,
   "metadata": {},
   "outputs": [
    {
     "ename": "TypeError",
     "evalue": "'Index' object is not callable",
     "output_type": "error",
     "traceback": [
      "\u001b[0;31m---------------------------------------------------------------------------\u001b[0m",
      "\u001b[0;31mTypeError\u001b[0m                                 Traceback (most recent call last)",
      "\u001b[0;32m<ipython-input-158-c4d2cd58ed4a>\u001b[0m in \u001b[0;36m<module>\u001b[0;34m\u001b[0m\n\u001b[1;32m      1\u001b[0m \u001b[0ma\u001b[0m \u001b[0;34m=\u001b[0m \u001b[0ms\u001b[0m\u001b[0;34m[\u001b[0m\u001b[0ms\u001b[0m \u001b[0;34m==\u001b[0m \u001b[0mmax\u001b[0m\u001b[0;34m(\u001b[0m\u001b[0ms\u001b[0m\u001b[0;34m)\u001b[0m\u001b[0;34m]\u001b[0m\u001b[0;34m\u001b[0m\u001b[0;34m\u001b[0m\u001b[0m\n\u001b[0;32m----> 2\u001b[0;31m \u001b[0ma\u001b[0m\u001b[0;34m.\u001b[0m\u001b[0mindex\u001b[0m\u001b[0;34m(\u001b[0m\u001b[0;34m)\u001b[0m\u001b[0;34m\u001b[0m\u001b[0;34m\u001b[0m\u001b[0m\n\u001b[0m",
      "\u001b[0;31mTypeError\u001b[0m: 'Index' object is not callable"
     ]
    }
   ],
   "source": [
    "a = s[s == max(s)]\n",
    "a.index()"
   ]
  },
  {
   "cell_type": "code",
   "execution_count": 172,
   "metadata": {},
   "outputs": [
    {
     "data": {
      "text/plain": [
       "פה    1148700\n",
       "dtype: object"
      ]
     },
     "execution_count": 172,
     "metadata": {},
     "output_type": "execute_result"
    }
   ],
   "source": [
    "s[a.index]"
   ]
  },
  {
   "cell_type": "code",
   "execution_count": null,
   "metadata": {},
   "outputs": [],
   "source": []
  }
 ],
 "metadata": {
  "kernelspec": {
   "display_name": "Python 3.6",
   "language": "python",
   "name": "python3.6"
  },
  "language_info": {
   "codemirror_mode": {
    "name": "ipython",
    "version": 3
   },
   "file_extension": ".py",
   "mimetype": "text/x-python",
   "name": "python",
   "nbconvert_exporter": "python",
   "pygments_lexer": "ipython3",
   "version": "3.6.8"
  }
 },
 "nbformat": 4,
 "nbformat_minor": 2
}
